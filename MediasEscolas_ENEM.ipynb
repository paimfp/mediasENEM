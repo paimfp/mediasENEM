{
 "cells": [
  {
   "cell_type": "code",
   "execution_count": null,
   "metadata": {
    "scrolled": true
   },
   "outputs": [],
   "source": [
    "import pandas as pd\n",
    "import numpy as np\n",
    "pd.set_option('display.max_columns', 500)\n",
    "#pd.set_option('display.max_rows', 500)\n",
    "\n",
    "# Leitura dos dados:MICRODADOS_ENEM são os microdados do ENEM, ESCOLAS.csv é uma tabela do Censo Escolar do respectivo ano\n",
    "ano = '2019'\n",
    "escolas = pd.read_csv(f'ESCOLAS_{ano}.csv', usecols = ['CO_ENTIDADE', 'NO_ENTIDADE'],sep = '|', encoding = 'latin').rename(columns = {'CO_ENTIDADE':'CO_ESCOLA', 'NO_ENTIDADE':'NOME'})\n",
    "dados = pd.read_csv(f'MICRODADOS_ENEM_{ano}.csv',\n",
    "                    sep = ';',\n",
    "                    encoding = 'latin',\n",
    "                   usecols=['NU_INSCRICAO','TP_ST_CONCLUSAO','TP_ESCOLA','TP_ENSINO','CO_ESCOLA','TP_DEPENDENCIA_ADM_ESC','NO_MUNICIPIO_ESC','SG_UF_ESC',\n",
    "                            'NU_NOTA_CN','NU_NOTA_CH','NU_NOTA_LC','NU_NOTA_MT','NU_NOTA_REDACAO', 'NO_MUNICIPIO_ESC', 'SG_UF_ESC'],\n",
    "                   dtype={'NU_INSCRICAO':'Int64', 'TP_ST_CONCLUSAO': 'Int8', 'TP_DEPENDENCIA_ADM_ESC':'Int8',\n",
    "                          'TP_ENSINO': 'Int8', 'CO_ESCOLA': 'Int32', 'NU_NOTA_REDACAO': 'Int32'})\n",
    "\n",
    "# Função que retorna ranking dataframe com filtro de número mínimo de alunos da escola (padrão 10 alunos mínimos)\n",
    "def medias_escolas(df, min_alunos = 10):\n",
    "    geral = df[df.PARTICIPANTES >= min_alunos] # Seleciona somente os alunos cuja escola tem número de participantes >= min_alunos\n",
    "    # Calcula as médias por escola mantendo outras variáveis de escola\n",
    "    geral = geral.groupby('CO_ESCOLA').agg(CH = ('NU_NOTA_CH', 'mean'),CN = ('NU_NOTA_CN', 'mean'),  LC = ('NU_NOTA_LC', 'mean'), MT = ('NU_NOTA_MT', 'mean'),\n",
    "                                           MEDIAS_OBJETIVA = ('OBJETIVA', 'mean'), RED = ('NU_NOTA_REDACAO', 'mean'), OBJETIVAS_COM_RED = ('MEDIA_RD', 'mean'),\n",
    "                                           MUNICIPIO = ('NO_MUNICIPIO_ESC', 'first'),PARTICIPANTES = ('PARTICIPANTES', 'first'),\n",
    "                                           ESTADO = ('SG_UF_ESC', 'first')).reset_index().sort_values('MEDIAS_OBJETIVA', ascending = False)\n",
    "    # Insere o nome das escolas usando o Censo Escolar, se o codInep não constar no Censo, deixa o nome vazio\n",
    "    geral = geral.merge(escolas, on='CO_ESCOLA', how='left')\n",
    "    geral.fillna(value=\"\", inplace=True)\n",
    "    # Arredonda as notas pra duas casas decimais, muda a ordem e renomeia as colunas\n",
    "    geral[['CN', 'CH', 'LC', 'MT', 'MEDIAS_OBJETIVA', 'RED',  'OBJETIVAS_COM_RED']] = geral[['CN', 'CH', 'LC', 'MT', 'MEDIAS_OBJETIVA', 'RED',  'OBJETIVAS_COM_RED']].round(2)\n",
    "    geral = geral[['CO_ESCOLA', 'NOME', 'MUNICIPIO','ESTADO', 'PARTICIPANTES', 'CH', 'CN', 'LC', 'MT', 'MEDIAS_OBJETIVA', 'RED',  'OBJETIVAS_COM_RED' ]]\n",
    "    geral.rename(columns= {\"CO_ESCOLA\": \"codInep\",\n",
    "                           \"NOME\": \"nome\",\n",
    "                           \"MUNICIPIO\": \"municipio\",\n",
    "                           \"ESTADO\": \"estado\",\n",
    "                           \"PARTICIPANTES\": \"participantes\",\n",
    "                           \"CH\": \"mediaCH\",\"CN\": \"mediaCN\",\"LC\": \"mediaLC\",\"MT\": \"mediaMT\",\"MEDIAS_OBJETIVA\": \"mediaObj\",\"RED\": \"mediaRed\",\"OBJETIVAS_COM_RED\":  \"mediaGeral\"}, inplace=True)\n",
    "    return geral\n",
    "\n",
    "# Filtro: Notas objetivas não nulas, possui Cod Escola, concluindo o ensino médio. Adiciona colunas com médias objetiva e com redação\n",
    "dados_filtrado = dados[(dados.NU_NOTA_CH > 0) &(dados.NU_NOTA_LC > 0) &(dados.NU_NOTA_MT > 0) &(dados.NU_NOTA_CN > 0) &(dados.CO_ESCOLA > 0) & (dados.TP_ST_CONCLUSAO == 2) & (dados.TP_ENSINO == 1)]\n",
    "dados_filtrado = dados_filtrado.assign(OBJETIVA = (dados_filtrado.NU_NOTA_CH + dados_filtrado.NU_NOTA_CN + dados_filtrado.NU_NOTA_LC + dados_filtrado.NU_NOTA_MT)/4)\n",
    "dados_filtrado = dados_filtrado.assign(MEDIA_RD = (dados_filtrado.NU_NOTA_CH + dados_filtrado.NU_NOTA_CN + dados_filtrado.NU_NOTA_LC + dados_filtrado.NU_NOTA_MT + dados_filtrado.NU_NOTA_REDACAO)/5)\n",
    "# Adiciona número de participantes da escola do aluno\n",
    "dados_filtrado = dados_filtrado.merge(dados_filtrado.groupby('CO_ESCOLA').agg(PARTICIPANTES = ('NU_INSCRICAO', 'count')).reset_index())\n",
    "\n",
    "df = medias_escolas(dados_filtrado, 0)\n",
    "nomeJson = f'mediasEnem_{ano}.json'\n",
    "df.to_json(nomeJson, orient='records')\n",
    "\n",
    "# Salva num banco MongoDB local\n",
    "!mongoimport --db=apiNotasEnem --collection=2019 --type=json --file={nomeJson} --jsonArray --drop\n",
    "# Criar index na variável `codInep` posteriormente para melhor performace"
   ]
  }
 ],
 "metadata": {
  "kernelspec": {
   "display_name": "Python 3",
   "language": "python",
   "name": "python3"
  },
  "language_info": {
   "codemirror_mode": {
    "name": "ipython",
    "version": 3
   },
   "file_extension": ".py",
   "mimetype": "text/x-python",
   "name": "python",
   "nbconvert_exporter": "python",
   "pygments_lexer": "ipython3",
   "version": "3.9.0"
  }
 },
 "nbformat": 4,
 "nbformat_minor": 4
}
